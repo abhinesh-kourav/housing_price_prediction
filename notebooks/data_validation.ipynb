{
 "cells": [
  {
   "cell_type": "code",
   "execution_count": 25,
   "metadata": {},
   "outputs": [
    {
     "data": {
      "text/plain": [
       "'D:\\\\Study stuff\\\\FSDS\\\\01. Python\\\\machine-learning-project'"
      ]
     },
     "execution_count": 25,
     "metadata": {},
     "output_type": "execute_result"
    }
   ],
   "source": [
    "import os\n",
    "os.chdir('D:\\\\Study stuff\\\\FSDS\\\\01. Python\\\\machine-learning-project')\n",
    "os.getcwd()"
   ]
  },
  {
   "cell_type": "code",
   "execution_count": 26,
   "metadata": {},
   "outputs": [],
   "source": [
    "from housing.util.util import read_yaml_file\n",
    "from housing.constants import *\n",
    "import pandas as pd"
   ]
  },
  {
   "cell_type": "code",
   "execution_count": 27,
   "metadata": {},
   "outputs": [],
   "source": [
    "test_file_path = \"d:\\\\Study stuff\\\\FSDS\\\\01. Python\\\\machine-learning-project\\\\housing\\\\artifact\\\\data_ingestion\\\\2022-07-03-12-39-28\\\\ingested_data\\\\test\\\\housing.csv\"\n",
    "train_file_path = \"d:\\\\Study stuff\\\\FSDS\\\\01. Python\\\\machine-learning-project\\\\housing\\\\artifact\\\\data_ingestion\\\\2022-07-03-12-39-28\\\\ingested_data\\\\train\\\\housing.csv\"\n",
    "schema = read_yaml_file(\"d:\\\\Study stuff\\\\FSDS\\\\01. Python\\\\machine-learning-project\\\\config\\\\schema.yaml\")\n",
    "schema_coulumns = schema[SCHEMA_COLUMNS_KEY]\n",
    "schema_numerical_columns = schema[SCHEMA_NUMERICAL_COLUMNS_KEY]\n",
    "schema_categorical_columns = schema[SCHEMA_CATEGORICAL_COLUMNS_KEY]\n",
    "schema_target_column = schema[SCHEMA_TARGET_COLUMN_KEY]\n",
    "schema_domain_value = schema[SCHEMA_DOMAIN_VALUE_KEY]\n",
    "train_df = pd.read_csv(train_file_path)\n",
    "test_df = pd.read_csv(test_file_path)"
   ]
  },
  {
   "cell_type": "code",
   "execution_count": 28,
   "metadata": {},
   "outputs": [
    {
     "data": {
      "text/plain": [
       "({'longitude': 'float',\n",
       "  'latitude': 'float',\n",
       "  'housing_median_age': 'float',\n",
       "  'total_rooms': 'float',\n",
       "  'total_bedrooms': 'float',\n",
       "  'population': 'float',\n",
       "  'households': 'float',\n",
       "  'median_income': 'float',\n",
       "  'median_house_value': 'float',\n",
       "  'ocean_proximity': 'category'},\n",
       " ['longitude',\n",
       "  'latitude',\n",
       "  'housing_median_age',\n",
       "  'total_rooms',\n",
       "  'total_bedrooms',\n",
       "  'population',\n",
       "  'households',\n",
       "  'median_income'],\n",
       " ['ocean_proximity'],\n",
       " 'median_house_value',\n",
       " {'ocean_proximity': ['<1H OCEAN',\n",
       "   'INLAND',\n",
       "   'ISLAND',\n",
       "   'NEAR BAY',\n",
       "   'NEAR OCEAN']})"
      ]
     },
     "execution_count": 28,
     "metadata": {},
     "output_type": "execute_result"
    }
   ],
   "source": [
    "schema_coulumns, schema_numerical_columns, schema_categorical_columns, schema_target_column, schema_domain_value"
   ]
  },
  {
   "cell_type": "code",
   "execution_count": 29,
   "metadata": {},
   "outputs": [
    {
     "data": {
      "text/plain": [
       "Index(['longitude', 'latitude', 'housing_median_age', 'total_rooms',\n",
       "       'total_bedrooms', 'population', 'households', 'median_income',\n",
       "       'median_house_value', 'ocean_proximity'],\n",
       "      dtype='object')"
      ]
     },
     "execution_count": 29,
     "metadata": {},
     "output_type": "execute_result"
    }
   ],
   "source": [
    "train_df.columns"
   ]
  },
  {
   "cell_type": "code",
   "execution_count": 30,
   "metadata": {},
   "outputs": [
    {
     "data": {
      "text/plain": [
       "Index(['longitude', 'latitude', 'housing_median_age', 'total_rooms',\n",
       "       'total_bedrooms', 'population', 'households', 'median_income',\n",
       "       'median_house_value', 'ocean_proximity'],\n",
       "      dtype='object')"
      ]
     },
     "execution_count": 30,
     "metadata": {},
     "output_type": "execute_result"
    }
   ],
   "source": [
    "test_df.columns"
   ]
  },
  {
   "cell_type": "code",
   "execution_count": 31,
   "metadata": {},
   "outputs": [
    {
     "data": {
      "text/plain": [
       "True"
      ]
     },
     "execution_count": 31,
     "metadata": {},
     "output_type": "execute_result"
    }
   ],
   "source": [
    "len(schema_coulumns) == len(train_df.columns)"
   ]
  },
  {
   "cell_type": "code",
   "execution_count": 32,
   "metadata": {},
   "outputs": [
    {
     "data": {
      "text/plain": [
       "True"
      ]
     },
     "execution_count": 32,
     "metadata": {},
     "output_type": "execute_result"
    }
   ],
   "source": [
    "len(schema_coulumns) == len(test_df.columns)"
   ]
  },
  {
   "cell_type": "code",
   "execution_count": 33,
   "metadata": {},
   "outputs": [
    {
     "data": {
      "text/plain": [
       "{'longitude': 'float',\n",
       " 'latitude': 'float',\n",
       " 'housing_median_age': 'float',\n",
       " 'total_rooms': 'float',\n",
       " 'total_bedrooms': 'float',\n",
       " 'population': 'float',\n",
       " 'households': 'float',\n",
       " 'median_income': 'float',\n",
       " 'median_house_value': 'float',\n",
       " 'ocean_proximity': 'category'}"
      ]
     },
     "execution_count": 33,
     "metadata": {},
     "output_type": "execute_result"
    }
   ],
   "source": [
    "schema_coulumns"
   ]
  },
  {
   "cell_type": "code",
   "execution_count": 34,
   "metadata": {},
   "outputs": [
    {
     "name": "stdout",
     "output_type": "stream",
     "text": [
      "False\n",
      "False\n",
      "False\n",
      "False\n",
      "False\n",
      "False\n",
      "False\n",
      "False\n",
      "False\n",
      "False\n"
     ]
    }
   ],
   "source": [
    "for column in train_df.columns:\n",
    "    print(column not in schema_coulumns.keys())   "
   ]
  },
  {
   "cell_type": "code",
   "execution_count": 56,
   "metadata": {},
   "outputs": [
    {
     "name": "stdout",
     "output_type": "stream",
     "text": [
      "ocean_proximity False\n",
      "ocean_proximity False\n",
      "ocean_proximity False\n",
      "ocean_proximity False\n",
      "ocean_proximity False\n"
     ]
    }
   ],
   "source": [
    "for column, cats in schema_domain_value.items():\n",
    "    for cat in train_df[column].unique():\n",
    "        print(cat not in schema_domain_value[column])"
   ]
  },
  {
   "cell_type": "code",
   "execution_count": 46,
   "metadata": {},
   "outputs": [
    {
     "data": {
      "text/plain": [
       "array(['INLAND', '<1H OCEAN', 'NEAR BAY', 'NEAR OCEAN', 'ISLAND'],\n",
       "      dtype=object)"
      ]
     },
     "execution_count": 46,
     "metadata": {},
     "output_type": "execute_result"
    }
   ],
   "source": [
    "train_df['ocean_proximity'].unique()"
   ]
  },
  {
   "cell_type": "code",
   "execution_count": 60,
   "metadata": {},
   "outputs": [
    {
     "name": "stdout",
     "output_type": "stream",
     "text": [
      "longitude float float64 True\n",
      "latitude float float64 True\n",
      "housing_median_age float float64 True\n",
      "total_rooms float float64 True\n",
      "total_bedrooms float float64 True\n",
      "population float float64 True\n",
      "households float float64 True\n",
      "median_income float float64 True\n",
      "median_house_value float float64 True\n",
      "ocean_proximity category object False\n"
     ]
    }
   ],
   "source": [
    "for column, dtype in schema_coulumns.items():\n",
    "    print(column,dtype,train_df[column].dtype, f'{dtype}' in f'{train_df[column].dtype}')\n",
    "        "
   ]
  },
  {
   "cell_type": "code",
   "execution_count": 58,
   "metadata": {},
   "outputs": [
    {
     "data": {
      "text/plain": [
       "True"
      ]
     },
     "execution_count": 58,
     "metadata": {},
     "output_type": "execute_result"
    }
   ],
   "source": [
    "'category' in 'category'"
   ]
  },
  {
   "cell_type": "code",
   "execution_count": null,
   "metadata": {},
   "outputs": [],
   "source": []
  }
 ],
 "metadata": {
  "kernelspec": {
   "display_name": "Python 3.7.0 (conda)",
   "language": "python",
   "name": "python3"
  },
  "language_info": {
   "codemirror_mode": {
    "name": "ipython",
    "version": 3
   },
   "file_extension": ".py",
   "mimetype": "text/x-python",
   "name": "python",
   "nbconvert_exporter": "python",
   "pygments_lexer": "ipython3",
   "version": "3.7.0"
  },
  "orig_nbformat": 4,
  "vscode": {
   "interpreter": {
    "hash": "f5d816775beeffa6205b01b877df9abaeb8a95cf65978b9e65fd5035b1e7827c"
   }
  }
 },
 "nbformat": 4,
 "nbformat_minor": 2
}
