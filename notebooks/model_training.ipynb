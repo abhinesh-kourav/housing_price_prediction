{
 "cells": [
  {
   "cell_type": "code",
   "execution_count": 1,
   "metadata": {},
   "outputs": [],
   "source": [
    "from housing.entity.model_factory import ModelFactory #, get_sample_model_config_yaml_file"
   ]
  },
  {
   "cell_type": "code",
   "execution_count": 2,
   "metadata": {},
   "outputs": [],
   "source": [
    "#model_config_path = get_sample_model_config_yaml_file(\"config\")\n",
    "model_config_path = \"config\\\\model.yaml\""
   ]
  },
  {
   "cell_type": "code",
   "execution_count": 3,
   "metadata": {},
   "outputs": [],
   "source": [
    "model_factory = ModelFactory(model_config_path=model_config_path)"
   ]
  },
  {
   "cell_type": "code",
   "execution_count": 6,
   "metadata": {},
   "outputs": [
    {
     "name": "stdout",
     "output_type": "stream",
     "text": [
      "{'fit_intercept': True}\n",
      "{'n_estimators': 40, 'min_samples_leaf': 2}\n"
     ]
    },
    {
     "data": {
      "text/plain": [
       "[InitializedModelDetail(model_serial_number='module_0', model=LinearRegression(), param_grid_search={'fit_intercept': [True, False]}, model_name='sklearn.linear_model.LinearRegression'),\n",
       " InitializedModelDetail(model_serial_number='module_1', model=RandomForestRegressor(min_samples_leaf=2, n_estimators=40), param_grid_search={'min_samples_leaf': [2, 4, 6], 'n_estimators': [50, 100, 80]}, model_name='sklearn.ensemble.RandomForestRegressor')]"
      ]
     },
     "execution_count": 6,
     "metadata": {},
     "output_type": "execute_result"
    }
   ],
   "source": [
    "model_list = model_factory.get_initialized_model_list()\n",
    "model_list"
   ]
  },
  {
   "cell_type": "code",
   "execution_count": 7,
   "metadata": {},
   "outputs": [],
   "source": [
    "from housing.util.util import load_numpy_array_data"
   ]
  },
  {
   "cell_type": "code",
   "execution_count": 8,
   "metadata": {},
   "outputs": [],
   "source": [
    "train_file_path = \"D:\\\\Study stuff\\\\FSDS\\\\01. Python\\\\machine-learning-project\\\\housing\\\\artifact\\\\data_transformation\\\\2022-07-06-18-35-40\\\\transformed_data\\\\train\\\\housing.npz\""
   ]
  },
  {
   "cell_type": "code",
   "execution_count": 10,
   "metadata": {},
   "outputs": [],
   "source": [
    "data = load_numpy_array_data(train_file_path)"
   ]
  },
  {
   "cell_type": "code",
   "execution_count": 11,
   "metadata": {},
   "outputs": [
    {
     "data": {
      "text/plain": [
       "(array([[ 0.13887721,  0.06059886, -1.09190211, ...,  0.        ,\n",
       "          0.        ,  0.        ],\n",
       "        [ 0.6735369 , -0.69784215,  1.69144483, ...,  0.        ,\n",
       "          0.        ,  0.        ],\n",
       "        [ 0.698521  , -0.82424899,  1.61192063, ...,  0.        ,\n",
       "          0.        ,  0.        ],\n",
       "        ...,\n",
       "        [ 0.79346057, -0.8804298 ,  0.65763025, ...,  0.        ,\n",
       "          0.        ,  0.        ],\n",
       "        [ 1.26316161, -1.40478409, -0.21713593, ...,  0.        ,\n",
       "          0.        ,  2.98991291],\n",
       "        [-0.85548989,  1.09994396,  1.85049323, ...,  0.        ,\n",
       "          0.        ,  0.        ]]),\n",
       " array([ 59800., 258100., 162800., ..., 199600., 181600.,  69900.]))"
      ]
     },
     "execution_count": 11,
     "metadata": {},
     "output_type": "execute_result"
    }
   ],
   "source": [
    "X, y = data[:,:-1], data[:,-1]\n",
    "X, y"
   ]
  },
  {
   "cell_type": "code",
   "execution_count": 12,
   "metadata": {},
   "outputs": [
    {
     "name": "stdout",
     "output_type": "stream",
     "text": [
      "{'fit_intercept': True}\n",
      "{'n_estimators': 40, 'min_samples_leaf': 2}\n",
      "{'cv': 4, 'verbose': 2}\n",
      "Fitting 4 folds for each of 2 candidates, totalling 8 fits\n",
      "[CV] END .................................fit_intercept=True; total time=   0.0s\n",
      "[CV] END .................................fit_intercept=True; total time=   0.0s\n",
      "[CV] END .................................fit_intercept=True; total time=   0.0s\n",
      "[CV] END .................................fit_intercept=True; total time=   0.0s\n",
      "[CV] END ................................fit_intercept=False; total time=   0.0s\n",
      "[CV] END ................................fit_intercept=False; total time=   0.0s\n",
      "[CV] END ................................fit_intercept=False; total time=   0.0s\n",
      "[CV] END ................................fit_intercept=False; total time=   0.0s\n",
      "{'cv': 4, 'verbose': 2}\n",
      "Fitting 4 folds for each of 9 candidates, totalling 36 fits\n",
      "[CV] END ................min_samples_leaf=2, n_estimators=50; total time=   3.2s\n",
      "[CV] END ................min_samples_leaf=2, n_estimators=50; total time=   3.2s\n",
      "[CV] END ................min_samples_leaf=2, n_estimators=50; total time=   3.2s\n",
      "[CV] END ................min_samples_leaf=2, n_estimators=50; total time=   3.1s\n",
      "[CV] END ...............min_samples_leaf=2, n_estimators=100; total time=   6.4s\n",
      "[CV] END ...............min_samples_leaf=2, n_estimators=100; total time=   6.5s\n",
      "[CV] END ...............min_samples_leaf=2, n_estimators=100; total time=   6.9s\n",
      "[CV] END ...............min_samples_leaf=2, n_estimators=100; total time=  16.6s\n",
      "[CV] END ................min_samples_leaf=2, n_estimators=80; total time=  17.5s\n",
      "[CV] END ................min_samples_leaf=2, n_estimators=80; total time=  17.0s\n",
      "[CV] END ................min_samples_leaf=2, n_estimators=80; total time=   6.3s\n",
      "[CV] END ................min_samples_leaf=2, n_estimators=80; total time=   5.9s\n",
      "[CV] END ................min_samples_leaf=4, n_estimators=50; total time=   8.9s\n",
      "[CV] END ................min_samples_leaf=4, n_estimators=50; total time=   9.9s\n",
      "[CV] END ................min_samples_leaf=4, n_estimators=50; total time=   9.7s\n",
      "[CV] END ................min_samples_leaf=4, n_estimators=50; total time=   8.0s\n",
      "[CV] END ...............min_samples_leaf=4, n_estimators=100; total time=   8.6s\n",
      "[CV] END ...............min_samples_leaf=4, n_estimators=100; total time=   6.8s\n",
      "[CV] END ...............min_samples_leaf=4, n_estimators=100; total time=   7.1s\n",
      "[CV] END ...............min_samples_leaf=4, n_estimators=100; total time=   6.1s\n",
      "[CV] END ................min_samples_leaf=4, n_estimators=80; total time=   4.7s\n",
      "[CV] END ................min_samples_leaf=4, n_estimators=80; total time=   5.5s\n",
      "[CV] END ................min_samples_leaf=4, n_estimators=80; total time=   6.6s\n",
      "[CV] END ................min_samples_leaf=4, n_estimators=80; total time=   6.2s\n",
      "[CV] END ................min_samples_leaf=6, n_estimators=50; total time=   4.5s\n",
      "[CV] END ................min_samples_leaf=6, n_estimators=50; total time=   9.1s\n",
      "[CV] END ................min_samples_leaf=6, n_estimators=50; total time=   8.5s\n",
      "[CV] END ................min_samples_leaf=6, n_estimators=50; total time=   9.2s\n",
      "[CV] END ...............min_samples_leaf=6, n_estimators=100; total time=  19.2s\n",
      "[CV] END ...............min_samples_leaf=6, n_estimators=100; total time=  19.0s\n",
      "[CV] END ...............min_samples_leaf=6, n_estimators=100; total time=  16.3s\n",
      "[CV] END ...............min_samples_leaf=6, n_estimators=100; total time=  10.8s\n",
      "[CV] END ................min_samples_leaf=6, n_estimators=80; total time=  13.7s\n",
      "[CV] END ................min_samples_leaf=6, n_estimators=80; total time=  14.6s\n",
      "[CV] END ................min_samples_leaf=6, n_estimators=80; total time=  15.1s\n",
      "[CV] END ................min_samples_leaf=6, n_estimators=80; total time=   5.3s\n"
     ]
    },
    {
     "data": {
      "text/plain": [
       "GridSearchedBestModel(model_serial_number='module_1', model=RandomForestRegressor(min_samples_leaf=2, n_estimators=40), best_model=RandomForestRegressor(min_samples_leaf=2, n_estimators=80), best_parameters={'min_samples_leaf': 2, 'n_estimators': 80}, best_score=0.8108978067373668)"
      ]
     },
     "execution_count": 12,
     "metadata": {},
     "output_type": "execute_result"
    }
   ],
   "source": [
    "best_model = model_factory.get_best_model(X,y)\n",
    "best_model"
   ]
  },
  {
   "cell_type": "code",
   "execution_count": 13,
   "metadata": {},
   "outputs": [
    {
     "data": {
      "text/plain": [
       "RandomForestRegressor(min_samples_leaf=2, n_estimators=80)"
      ]
     },
     "execution_count": 13,
     "metadata": {},
     "output_type": "execute_result"
    }
   ],
   "source": [
    "best_model.best_model"
   ]
  },
  {
   "cell_type": "code",
   "execution_count": 15,
   "metadata": {},
   "outputs": [
    {
     "data": {
      "text/plain": [
       "[GridSearchedBestModel(model_serial_number='module_0', model=LinearRegression(), best_model=LinearRegression(), best_parameters={'fit_intercept': True}, best_score=0.646128338290622),\n",
       " GridSearchedBestModel(model_serial_number='module_1', model=RandomForestRegressor(min_samples_leaf=2, n_estimators=40), best_model=RandomForestRegressor(min_samples_leaf=2, n_estimators=80), best_parameters={'min_samples_leaf': 2, 'n_estimators': 80}, best_score=0.8108978067373668)]"
      ]
     },
     "execution_count": 15,
     "metadata": {},
     "output_type": "execute_result"
    }
   ],
   "source": [
    "model_factory.grid_searched_best_model_list"
   ]
  },
  {
   "cell_type": "code",
   "execution_count": null,
   "metadata": {},
   "outputs": [],
   "source": []
  }
 ],
 "metadata": {
  "kernelspec": {
   "display_name": "Python 3.7.0 (conda)",
   "language": "python",
   "name": "python3"
  },
  "language_info": {
   "codemirror_mode": {
    "name": "ipython",
    "version": 3
   },
   "file_extension": ".py",
   "mimetype": "text/x-python",
   "name": "python",
   "nbconvert_exporter": "python",
   "pygments_lexer": "ipython3",
   "version": "3.7.0"
  },
  "orig_nbformat": 4,
  "vscode": {
   "interpreter": {
    "hash": "f5d816775beeffa6205b01b877df9abaeb8a95cf65978b9e65fd5035b1e7827c"
   }
  }
 },
 "nbformat": 4,
 "nbformat_minor": 2
}
