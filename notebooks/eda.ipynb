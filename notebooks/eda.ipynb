{
 "cells": [
  {
   "cell_type": "code",
   "execution_count": 1,
   "metadata": {},
   "outputs": [],
   "source": [
    "train_file_path = \"D:\\\\Study stuff\\FSDS\\\\01. Python\\\\machine-learning-project\\\\housing\\\\artifact\\data_ingestion\\\\2022-07-05-15-13-00\\ingested_data\\\\train\\\\housing.csv\"\n",
    "test_file_path = \"D:\\\\Study stuff\\FSDS\\\\01. Python\\\\machine-learning-project\\\\housing\\\\artifact\\data_ingestion\\\\2022-07-05-15-13-00\\ingested_data\\\\test\\\\housing.csv\""
   ]
  },
  {
   "cell_type": "code",
   "execution_count": 2,
   "metadata": {},
   "outputs": [],
   "source": [
    "import pandas as pd\n",
    "df = pd.read_csv(train_file_path)"
   ]
  },
  {
   "cell_type": "code",
   "execution_count": 3,
   "metadata": {},
   "outputs": [
    {
     "data": {
      "text/plain": [
       "(16512, 10)"
      ]
     },
     "execution_count": 3,
     "metadata": {},
     "output_type": "execute_result"
    }
   ],
   "source": [
    "df.shape"
   ]
  },
  {
   "cell_type": "code",
   "execution_count": 4,
   "metadata": {},
   "outputs": [],
   "source": [
    "X, y = df.drop('median_house_value', axis=1), df[['median_house_value']]"
   ]
  },
  {
   "cell_type": "code",
   "execution_count": 5,
   "metadata": {},
   "outputs": [
    {
     "data": {
      "text/plain": [
       "((16512, 9), (16512, 1))"
      ]
     },
     "execution_count": 5,
     "metadata": {},
     "output_type": "execute_result"
    }
   ],
   "source": [
    "X.shape, y.shape"
   ]
  },
  {
   "cell_type": "code",
   "execution_count": 6,
   "metadata": {},
   "outputs": [
    {
     "data": {
      "text/plain": [
       "(longitude               0\n",
       " latitude                0\n",
       " housing_median_age      0\n",
       " total_rooms             0\n",
       " total_bedrooms        169\n",
       " population              0\n",
       " households              0\n",
       " median_income           0\n",
       " ocean_proximity         0\n",
       " dtype: int64,\n",
       " median_house_value    0\n",
       " dtype: int64)"
      ]
     },
     "execution_count": 6,
     "metadata": {},
     "output_type": "execute_result"
    }
   ],
   "source": [
    "X.isna().sum(), y.isna().sum()"
   ]
  },
  {
   "cell_type": "code",
   "execution_count": 7,
   "metadata": {},
   "outputs": [],
   "source": [
    "from sklearn.impute import SimpleImputer"
   ]
  },
  {
   "cell_type": "code",
   "execution_count": 8,
   "metadata": {},
   "outputs": [],
   "source": [
    "numerical_columns  = X.drop(\"ocean_proximity\", axis=1)"
   ]
  },
  {
   "cell_type": "code",
   "execution_count": 9,
   "metadata": {},
   "outputs": [],
   "source": [
    "simple_imputer = SimpleImputer(strategy='median')"
   ]
  },
  {
   "cell_type": "code",
   "execution_count": 10,
   "metadata": {},
   "outputs": [],
   "source": [
    "numerical_columns = simple_imputer.fit_transform(numerical_columns)"
   ]
  },
  {
   "cell_type": "code",
   "execution_count": 11,
   "metadata": {},
   "outputs": [
    {
     "data": {
      "text/plain": [
       "array([[-1.1929e+02,  3.5760e+01,  1.5000e+01, ...,  3.5000e+03,\n",
       "         7.6800e+02,  2.1295e+00],\n",
       "       [-1.1822e+02,  3.4140e+01,  5.0000e+01, ...,  1.7250e+03,\n",
       "         6.4400e+02,  5.5456e+00],\n",
       "       [-1.1817e+02,  3.3870e+01,  4.9000e+01, ...,  1.3390e+03,\n",
       "         4.4000e+02,  3.0319e+00],\n",
       "       ...,\n",
       "       [-1.1798e+02,  3.3750e+01,  3.7000e+01, ...,  7.8300e+02,\n",
       "         2.7300e+02,  3.3438e+00],\n",
       "       [-1.1704e+02,  3.2630e+01,  2.6000e+01, ...,  1.1660e+03,\n",
       "         3.9800e+02,  5.1354e+00],\n",
       "       [-1.2128e+02,  3.7980e+01,  5.2000e+01, ...,  4.1400e+02,\n",
       "         1.7100e+02,  2.1429e+00]])"
      ]
     },
     "execution_count": 11,
     "metadata": {},
     "output_type": "execute_result"
    }
   ],
   "source": [
    "numerical_columns"
   ]
  },
  {
   "cell_type": "code",
   "execution_count": 12,
   "metadata": {},
   "outputs": [
    {
     "data": {
      "text/plain": [
       "array(['longitude', 'latitude', 'housing_median_age', 'total_rooms',\n",
       "       'total_bedrooms', 'population', 'households', 'median_income'],\n",
       "      dtype=object)"
      ]
     },
     "execution_count": 12,
     "metadata": {},
     "output_type": "execute_result"
    }
   ],
   "source": [
    "simple_imputer.feature_names_in_"
   ]
  },
  {
   "cell_type": "code",
   "execution_count": 13,
   "metadata": {},
   "outputs": [
    {
     "data": {
      "text/plain": [
       "array([-118.49  ,   34.25  ,   29.    , 2121.    ,  433.    , 1166.    ,\n",
       "        408.    ,    3.5394])"
      ]
     },
     "execution_count": 13,
     "metadata": {},
     "output_type": "execute_result"
    }
   ],
   "source": [
    "simple_imputer.statistics_"
   ]
  },
  {
   "cell_type": "code",
   "execution_count": 14,
   "metadata": {},
   "outputs": [],
   "source": [
    "simple_imputer_cat = SimpleImputer(strategy=\"most_frequent\")"
   ]
  },
  {
   "cell_type": "code",
   "execution_count": 15,
   "metadata": {},
   "outputs": [
    {
     "data": {
      "text/plain": [
       "array([['INLAND'],\n",
       "       ['<1H OCEAN'],\n",
       "       ['<1H OCEAN'],\n",
       "       ...,\n",
       "       ['<1H OCEAN'],\n",
       "       ['NEAR OCEAN'],\n",
       "       ['INLAND']], dtype=object)"
      ]
     },
     "execution_count": 15,
     "metadata": {},
     "output_type": "execute_result"
    }
   ],
   "source": [
    "simple_imputer_cat.fit_transform(df[['ocean_proximity']])"
   ]
  },
  {
   "cell_type": "code",
   "execution_count": 16,
   "metadata": {},
   "outputs": [
    {
     "data": {
      "text/plain": [
       "array(['ocean_proximity'], dtype=object)"
      ]
     },
     "execution_count": 16,
     "metadata": {},
     "output_type": "execute_result"
    }
   ],
   "source": [
    "simple_imputer_cat.feature_names_in_"
   ]
  },
  {
   "cell_type": "code",
   "execution_count": 17,
   "metadata": {},
   "outputs": [
    {
     "data": {
      "text/plain": [
       "array(['<1H OCEAN'], dtype=object)"
      ]
     },
     "execution_count": 17,
     "metadata": {},
     "output_type": "execute_result"
    }
   ],
   "source": [
    "simple_imputer_cat.statistics_"
   ]
  },
  {
   "cell_type": "markdown",
   "metadata": {},
   "source": [
    "Custom Transformer"
   ]
  },
  {
   "cell_type": "code",
   "execution_count": 18,
   "metadata": {},
   "outputs": [],
   "source": [
    "class FeatureGenerator():\n",
    "    def __init__(self, strategy=\"median\"):\n",
    "        self.strategy = strategy\n",
    "    def fit(self, X):\n",
    "        self.features = X.columns\n",
    "         \n",
    "        pass\n",
    "    def transform(self, X):\n",
    "        pass\n",
    "    def fit_transform(self, X):\n",
    "        pass\n",
    "#1:15 - next class"
   ]
  },
  {
   "cell_type": "code",
   "execution_count": 19,
   "metadata": {},
   "outputs": [],
   "source": [
    "from sklearn.base import BaseEstimator, TransformerMixin\n",
    "from housing.exception import HousingException\n",
    "import sys\n",
    "import numpy as np"
   ]
  },
  {
   "cell_type": "code",
   "execution_count": 20,
   "metadata": {},
   "outputs": [],
   "source": [
    "COLUMN_TOTAL_ROOMS = \"total_rooms\"\n",
    "COLUMN_POPULATION = \"population\"\n",
    "COLUMN_HOUSEHOLDS = \"households\"\n",
    "COLUMN_TOTAL_BEDROOM = \"total_bedrooms\"\n",
    "\n",
    "class FeatureGenerator(BaseEstimator, TransformerMixin):\n",
    "\n",
    "    def __init__(self, add_bedrooms_per_room=True,\n",
    "                 total_rooms_ix=3,\n",
    "                 population_ix=5,\n",
    "                 households_ix=6,\n",
    "                 total_bedrooms_ix=4, columns=None):\n",
    "        \"\"\"\n",
    "        FeatureGenerator Initialization\n",
    "        add_bedrooms_per_room: bool\n",
    "        total_rooms_ix: int index number of total rooms columns\n",
    "        population_ix: int index number of total population columns\n",
    "        households_ix: int index number of  households columns\n",
    "        total_bedrooms_ix: int index number of bedrooms columns\n",
    "        \"\"\"\n",
    "        try:\n",
    "            self.columns = columns\n",
    "            if self.columns is not None:\n",
    "                total_rooms_ix = self.columns.index(COLUMN_TOTAL_ROOMS)\n",
    "                population_ix = self.columns.index(COLUMN_POPULATION)\n",
    "                households_ix = self.columns.index(COLUMN_HOUSEHOLDS)\n",
    "                total_bedrooms_ix = self.columns.index(COLUMN_TOTAL_BEDROOM)\n",
    "\n",
    "            self.add_bedrooms_per_room = add_bedrooms_per_room\n",
    "            self.total_rooms_ix = total_rooms_ix\n",
    "            self.population_ix = population_ix\n",
    "            self.households_ix = households_ix\n",
    "            self.total_bedrooms_ix = total_bedrooms_ix\n",
    "        except Exception as e:\n",
    "            raise e\n",
    "\n",
    "    def fit(self, X, y=None):\n",
    "        return self\n",
    "\n",
    "    def transform(self, X, y=None):\n",
    "        try:\n",
    "            room_per_household = X[:, self.total_rooms_ix] / \\\n",
    "                                 X[:, self.households_ix]\n",
    "            population_per_household = X[:, self.population_ix] / \\\n",
    "                                       X[:, self.households_ix]\n",
    "            if self.add_bedrooms_per_room:\n",
    "                bedrooms_per_room = X[:, self.total_bedrooms_ix] / \\\n",
    "                                    X[:, self.total_rooms_ix]\n",
    "                generated_feature = np.c_[\n",
    "                    X, room_per_household, population_per_household, bedrooms_per_room]\n",
    "            else:\n",
    "                generated_feature = np.c_[\n",
    "                    X, room_per_household, population_per_household]\n",
    "\n",
    "            return generated_feature\n",
    "        except Exception as e:\n",
    "            raise e"
   ]
  },
  {
   "cell_type": "code",
   "execution_count": 21,
   "metadata": {},
   "outputs": [],
   "source": [
    "from sklearn.pipeline import Pipeline"
   ]
  },
  {
   "cell_type": "code",
   "execution_count": 22,
   "metadata": {},
   "outputs": [],
   "source": [
    "from sklearn.compose import ColumnTransformer"
   ]
  },
  {
   "cell_type": "code",
   "execution_count": 23,
   "metadata": {},
   "outputs": [],
   "source": [
    "from sklearn.preprocessing import StandardScaler"
   ]
  },
  {
   "cell_type": "code",
   "execution_count": 24,
   "metadata": {},
   "outputs": [],
   "source": [
    "num_pipeline = Pipeline(steps=[('imputer', SimpleImputer(strategy='median')),\n",
    "                                ('feature_generator', FeatureGenerator()),\n",
    "                                ('scaling',StandardScaler())\n",
    "                                ])"
   ]
  },
  {
   "cell_type": "code",
   "execution_count": 25,
   "metadata": {},
   "outputs": [
    {
     "data": {
      "text/plain": [
       "Pipeline(steps=[('imputer', SimpleImputer(strategy='median')),\n",
       "                ('feature_generator', FeatureGenerator()),\n",
       "                ('scaling', StandardScaler())])"
      ]
     },
     "execution_count": 25,
     "metadata": {},
     "output_type": "execute_result"
    }
   ],
   "source": [
    "num_pipeline"
   ]
  },
  {
   "cell_type": "code",
   "execution_count": 26,
   "metadata": {},
   "outputs": [],
   "source": [
    "from sklearn.preprocessing import OneHotEncoder"
   ]
  },
  {
   "cell_type": "code",
   "execution_count": 27,
   "metadata": {},
   "outputs": [],
   "source": [
    "cat_pipeline = Pipeline(steps=[('imputer', SimpleImputer(strategy='most_frequent')),\n",
    "                                ('one_hot_encoder', OneHotEncoder()),\n",
    "                                ('scaling',StandardScaler(with_mean=False))\n",
    "                                ])"
   ]
  },
  {
   "cell_type": "code",
   "execution_count": 28,
   "metadata": {},
   "outputs": [
    {
     "data": {
      "text/plain": [
       "Pipeline(steps=[('imputer', SimpleImputer(strategy='most_frequent')),\n",
       "                ('one_hot_encoder', OneHotEncoder()),\n",
       "                ('scaling', StandardScaler(with_mean=False))])"
      ]
     },
     "execution_count": 28,
     "metadata": {},
     "output_type": "execute_result"
    }
   ],
   "source": [
    "cat_pipeline"
   ]
  },
  {
   "cell_type": "code",
   "execution_count": 29,
   "metadata": {},
   "outputs": [
    {
     "data": {
      "text/plain": [
       "Index(['longitude', 'latitude', 'housing_median_age', 'total_rooms',\n",
       "       'total_bedrooms', 'population', 'households', 'median_income',\n",
       "       'median_house_value', 'ocean_proximity'],\n",
       "      dtype='object')"
      ]
     },
     "execution_count": 29,
     "metadata": {},
     "output_type": "execute_result"
    }
   ],
   "source": [
    "df.columns"
   ]
  },
  {
   "cell_type": "code",
   "execution_count": 30,
   "metadata": {},
   "outputs": [],
   "source": [
    "num_column_names = ['longitude', 'latitude', 'housing_median_age', 'total_rooms',\n",
    "       'total_bedrooms', 'population', 'households', 'median_income']\n",
    "cat_column_names = ['ocean_proximity']"
   ]
  },
  {
   "cell_type": "code",
   "execution_count": 31,
   "metadata": {},
   "outputs": [],
   "source": [
    "preprocessing = ColumnTransformer(transformers=[('num_pipeline', num_pipeline, num_column_names),\n",
    "                                                ('cat_pipeline', cat_pipeline, cat_column_names),\n",
    "                                                ])"
   ]
  },
  {
   "cell_type": "code",
   "execution_count": 32,
   "metadata": {},
   "outputs": [
    {
     "data": {
      "text/html": [
       "<div>\n",
       "<style scoped>\n",
       "    .dataframe tbody tr th:only-of-type {\n",
       "        vertical-align: middle;\n",
       "    }\n",
       "\n",
       "    .dataframe tbody tr th {\n",
       "        vertical-align: top;\n",
       "    }\n",
       "\n",
       "    .dataframe thead th {\n",
       "        text-align: right;\n",
       "    }\n",
       "</style>\n",
       "<table border=\"1\" class=\"dataframe\">\n",
       "  <thead>\n",
       "    <tr style=\"text-align: right;\">\n",
       "      <th></th>\n",
       "      <th>longitude</th>\n",
       "      <th>latitude</th>\n",
       "      <th>housing_median_age</th>\n",
       "      <th>total_rooms</th>\n",
       "      <th>total_bedrooms</th>\n",
       "      <th>population</th>\n",
       "      <th>households</th>\n",
       "      <th>median_income</th>\n",
       "      <th>ocean_proximity</th>\n",
       "    </tr>\n",
       "  </thead>\n",
       "  <tbody>\n",
       "    <tr>\n",
       "      <th>0</th>\n",
       "      <td>-119.29</td>\n",
       "      <td>35.76</td>\n",
       "      <td>15.0</td>\n",
       "      <td>3938.0</td>\n",
       "      <td>789.0</td>\n",
       "      <td>3500.0</td>\n",
       "      <td>768.0</td>\n",
       "      <td>2.1295</td>\n",
       "      <td>INLAND</td>\n",
       "    </tr>\n",
       "    <tr>\n",
       "      <th>1</th>\n",
       "      <td>-118.22</td>\n",
       "      <td>34.14</td>\n",
       "      <td>50.0</td>\n",
       "      <td>3657.0</td>\n",
       "      <td>708.0</td>\n",
       "      <td>1725.0</td>\n",
       "      <td>644.0</td>\n",
       "      <td>5.5456</td>\n",
       "      <td>&lt;1H OCEAN</td>\n",
       "    </tr>\n",
       "    <tr>\n",
       "      <th>2</th>\n",
       "      <td>-118.17</td>\n",
       "      <td>33.87</td>\n",
       "      <td>49.0</td>\n",
       "      <td>1937.0</td>\n",
       "      <td>445.0</td>\n",
       "      <td>1339.0</td>\n",
       "      <td>440.0</td>\n",
       "      <td>3.0319</td>\n",
       "      <td>&lt;1H OCEAN</td>\n",
       "    </tr>\n",
       "    <tr>\n",
       "      <th>3</th>\n",
       "      <td>-118.95</td>\n",
       "      <td>34.19</td>\n",
       "      <td>24.0</td>\n",
       "      <td>2719.0</td>\n",
       "      <td>434.0</td>\n",
       "      <td>1318.0</td>\n",
       "      <td>424.0</td>\n",
       "      <td>4.6750</td>\n",
       "      <td>&lt;1H OCEAN</td>\n",
       "    </tr>\n",
       "    <tr>\n",
       "      <th>4</th>\n",
       "      <td>-122.16</td>\n",
       "      <td>37.75</td>\n",
       "      <td>44.0</td>\n",
       "      <td>617.0</td>\n",
       "      <td>131.0</td>\n",
       "      <td>378.0</td>\n",
       "      <td>135.0</td>\n",
       "      <td>2.5568</td>\n",
       "      <td>NEAR BAY</td>\n",
       "    </tr>\n",
       "    <tr>\n",
       "      <th>...</th>\n",
       "      <td>...</td>\n",
       "      <td>...</td>\n",
       "      <td>...</td>\n",
       "      <td>...</td>\n",
       "      <td>...</td>\n",
       "      <td>...</td>\n",
       "      <td>...</td>\n",
       "      <td>...</td>\n",
       "      <td>...</td>\n",
       "    </tr>\n",
       "    <tr>\n",
       "      <th>16507</th>\n",
       "      <td>-118.28</td>\n",
       "      <td>34.07</td>\n",
       "      <td>24.0</td>\n",
       "      <td>3247.0</td>\n",
       "      <td>1281.0</td>\n",
       "      <td>2642.0</td>\n",
       "      <td>1182.0</td>\n",
       "      <td>2.4632</td>\n",
       "      <td>&lt;1H OCEAN</td>\n",
       "    </tr>\n",
       "    <tr>\n",
       "      <th>16508</th>\n",
       "      <td>-118.19</td>\n",
       "      <td>34.16</td>\n",
       "      <td>49.0</td>\n",
       "      <td>1788.0</td>\n",
       "      <td>267.0</td>\n",
       "      <td>735.0</td>\n",
       "      <td>266.0</td>\n",
       "      <td>6.6009</td>\n",
       "      <td>&lt;1H OCEAN</td>\n",
       "    </tr>\n",
       "    <tr>\n",
       "      <th>16509</th>\n",
       "      <td>-117.98</td>\n",
       "      <td>33.75</td>\n",
       "      <td>37.0</td>\n",
       "      <td>1264.0</td>\n",
       "      <td>274.0</td>\n",
       "      <td>783.0</td>\n",
       "      <td>273.0</td>\n",
       "      <td>3.3438</td>\n",
       "      <td>&lt;1H OCEAN</td>\n",
       "    </tr>\n",
       "    <tr>\n",
       "      <th>16510</th>\n",
       "      <td>-117.04</td>\n",
       "      <td>32.63</td>\n",
       "      <td>26.0</td>\n",
       "      <td>2756.0</td>\n",
       "      <td>422.0</td>\n",
       "      <td>1166.0</td>\n",
       "      <td>398.0</td>\n",
       "      <td>5.1354</td>\n",
       "      <td>NEAR OCEAN</td>\n",
       "    </tr>\n",
       "    <tr>\n",
       "      <th>16511</th>\n",
       "      <td>-121.28</td>\n",
       "      <td>37.98</td>\n",
       "      <td>52.0</td>\n",
       "      <td>941.0</td>\n",
       "      <td>184.0</td>\n",
       "      <td>414.0</td>\n",
       "      <td>171.0</td>\n",
       "      <td>2.1429</td>\n",
       "      <td>INLAND</td>\n",
       "    </tr>\n",
       "  </tbody>\n",
       "</table>\n",
       "<p>16512 rows × 9 columns</p>\n",
       "</div>"
      ],
      "text/plain": [
       "       longitude  latitude  housing_median_age  total_rooms  total_bedrooms  \\\n",
       "0        -119.29     35.76                15.0       3938.0           789.0   \n",
       "1        -118.22     34.14                50.0       3657.0           708.0   \n",
       "2        -118.17     33.87                49.0       1937.0           445.0   \n",
       "3        -118.95     34.19                24.0       2719.0           434.0   \n",
       "4        -122.16     37.75                44.0        617.0           131.0   \n",
       "...          ...       ...                 ...          ...             ...   \n",
       "16507    -118.28     34.07                24.0       3247.0          1281.0   \n",
       "16508    -118.19     34.16                49.0       1788.0           267.0   \n",
       "16509    -117.98     33.75                37.0       1264.0           274.0   \n",
       "16510    -117.04     32.63                26.0       2756.0           422.0   \n",
       "16511    -121.28     37.98                52.0        941.0           184.0   \n",
       "\n",
       "       population  households  median_income ocean_proximity  \n",
       "0          3500.0       768.0         2.1295          INLAND  \n",
       "1          1725.0       644.0         5.5456       <1H OCEAN  \n",
       "2          1339.0       440.0         3.0319       <1H OCEAN  \n",
       "3          1318.0       424.0         4.6750       <1H OCEAN  \n",
       "4           378.0       135.0         2.5568        NEAR BAY  \n",
       "...           ...         ...            ...             ...  \n",
       "16507      2642.0      1182.0         2.4632       <1H OCEAN  \n",
       "16508       735.0       266.0         6.6009       <1H OCEAN  \n",
       "16509       783.0       273.0         3.3438       <1H OCEAN  \n",
       "16510      1166.0       398.0         5.1354      NEAR OCEAN  \n",
       "16511       414.0       171.0         2.1429          INLAND  \n",
       "\n",
       "[16512 rows x 9 columns]"
      ]
     },
     "execution_count": 32,
     "metadata": {},
     "output_type": "execute_result"
    }
   ],
   "source": [
    "X"
   ]
  },
  {
   "cell_type": "code",
   "execution_count": 33,
   "metadata": {},
   "outputs": [],
   "source": [
    "train_df = preprocessing.fit_transform(df)"
   ]
  },
  {
   "cell_type": "code",
   "execution_count": 34,
   "metadata": {},
   "outputs": [
    {
     "data": {
      "text/plain": [
       "array([[ 0.13887721,  0.06059886, -1.09190211, ...,  0.        ,\n",
       "         0.        ,  0.        ],\n",
       "       [ 0.6735369 , -0.69784215,  1.69144483, ...,  0.        ,\n",
       "         0.        ,  0.        ],\n",
       "       [ 0.698521  , -0.82424899,  1.61192063, ...,  0.        ,\n",
       "         0.        ,  0.        ],\n",
       "       ...,\n",
       "       [ 0.79346057, -0.8804298 ,  0.65763025, ...,  0.        ,\n",
       "         0.        ,  0.        ],\n",
       "       [ 1.26316161, -1.40478409, -0.21713593, ...,  0.        ,\n",
       "         0.        ,  2.98991291],\n",
       "       [-0.85548989,  1.09994396,  1.85049323, ...,  0.        ,\n",
       "         0.        ,  0.        ]])"
      ]
     },
     "execution_count": 34,
     "metadata": {},
     "output_type": "execute_result"
    }
   ],
   "source": [
    "train_df"
   ]
  },
  {
   "cell_type": "code",
   "execution_count": 35,
   "metadata": {},
   "outputs": [],
   "source": [
    "import dill"
   ]
  },
  {
   "cell_type": "code",
   "execution_count": 36,
   "metadata": {},
   "outputs": [],
   "source": [
    "with open('preprocessing.pkl', \"wb\") as prep_file:\n",
    "    dill.dump(preprocessing, prep_file)"
   ]
  },
  {
   "cell_type": "code",
   "execution_count": 37,
   "metadata": {},
   "outputs": [],
   "source": [
    "with open('preprocessing.pkl', \"rb\") as prep_file:\n",
    "    preprocessing_load_obj = dill.load(prep_file)"
   ]
  },
  {
   "cell_type": "code",
   "execution_count": 38,
   "metadata": {},
   "outputs": [],
   "source": [
    "test_df = pd.read_csv(test_file_path)"
   ]
  },
  {
   "cell_type": "code",
   "execution_count": 56,
   "metadata": {},
   "outputs": [],
   "source": [
    "test_arr = preprocessing_load_obj.transform(test_df)"
   ]
  },
  {
   "cell_type": "code",
   "execution_count": 41,
   "metadata": {},
   "outputs": [
    {
     "data": {
      "text/plain": [
       "array([[ 0.13887721,  0.06059886, -1.09190211, ...,  0.        ,\n",
       "         0.        ,  0.        ],\n",
       "       [ 0.6735369 , -0.69784215,  1.69144483, ...,  0.        ,\n",
       "         0.        ,  0.        ],\n",
       "       [ 0.698521  , -0.82424899,  1.61192063, ...,  0.        ,\n",
       "         0.        ,  0.        ],\n",
       "       ...,\n",
       "       [ 0.79346057, -0.8804298 ,  0.65763025, ...,  0.        ,\n",
       "         0.        ,  0.        ],\n",
       "       [ 1.26316161, -1.40478409, -0.21713593, ...,  0.        ,\n",
       "         0.        ,  2.98991291],\n",
       "       [-0.85548989,  1.09994396,  1.85049323, ...,  0.        ,\n",
       "         0.        ,  0.        ]])"
      ]
     },
     "execution_count": 41,
     "metadata": {},
     "output_type": "execute_result"
    }
   ],
   "source": [
    "train_df"
   ]
  },
  {
   "cell_type": "code",
   "execution_count": 42,
   "metadata": {},
   "outputs": [],
   "source": [
    "X, y = train_df, np.array(df.median_house_value)"
   ]
  },
  {
   "cell_type": "code",
   "execution_count": 43,
   "metadata": {},
   "outputs": [],
   "source": [
    "from sklearn.linear_model import LinearRegression"
   ]
  },
  {
   "cell_type": "code",
   "execution_count": 44,
   "metadata": {},
   "outputs": [],
   "source": [
    "linear_regression = LinearRegression()"
   ]
  },
  {
   "cell_type": "code",
   "execution_count": 45,
   "metadata": {},
   "outputs": [
    {
     "data": {
      "text/plain": [
       "LinearRegression()"
      ]
     },
     "execution_count": 45,
     "metadata": {},
     "output_type": "execute_result"
    }
   ],
   "source": [
    "linear_regression.fit(X,y)"
   ]
  },
  {
   "cell_type": "code",
   "execution_count": 47,
   "metadata": {},
   "outputs": [
    {
     "data": {
      "text/plain": [
       "array([-5.62147703e+04, -5.68788573e+04,  1.33400827e+04, -3.99321577e+03,\n",
       "        8.77380464e+03, -4.48759424e+04,  4.52880147e+04,  7.49394852e+04,\n",
       "        6.77141913e+03,  9.83457333e+02,  9.41282527e+03,  5.61657635e+12,\n",
       "        5.26332475e+12,  1.96739221e+11,  3.55562128e+12,  3.78192581e+12])"
      ]
     },
     "execution_count": 47,
     "metadata": {},
     "output_type": "execute_result"
    }
   ],
   "source": [
    "linear_regression.coef_"
   ]
  },
  {
   "cell_type": "code",
   "execution_count": 48,
   "metadata": {},
   "outputs": [
    {
     "data": {
      "text/plain": [
       "-11307628597425.076"
      ]
     },
     "execution_count": 48,
     "metadata": {},
     "output_type": "execute_result"
    }
   ],
   "source": [
    "linear_regression.intercept_"
   ]
  },
  {
   "cell_type": "code",
   "execution_count": 49,
   "metadata": {},
   "outputs": [],
   "source": [
    "y_hat = linear_regression.predict(X)"
   ]
  },
  {
   "cell_type": "code",
   "execution_count": 50,
   "metadata": {},
   "outputs": [
    {
     "data": {
      "text/plain": [
       "array([ 36947.40820312, 313666.7578125 , 209657.52734375, ...,\n",
       "       205619.92773438, 268704.19921875, 117428.65429688])"
      ]
     },
     "execution_count": 50,
     "metadata": {},
     "output_type": "execute_result"
    }
   ],
   "source": [
    "y_hat"
   ]
  },
  {
   "cell_type": "code",
   "execution_count": 52,
   "metadata": {},
   "outputs": [],
   "source": [
    "import matplotlib.pyplot as plt"
   ]
  },
  {
   "cell_type": "code",
   "execution_count": 53,
   "metadata": {},
   "outputs": [
    {
     "data": {
      "text/plain": [
       "<matplotlib.collections.PathCollection at 0x1b3f7af2f28>"
      ]
     },
     "execution_count": 53,
     "metadata": {},
     "output_type": "execute_result"
    },
    {
     "data": {
      "image/png": "[encoded data removed]",
      "text/plain": [
       "<Figure size 432x288 with 1 Axes>"
      ]
     },
     "metadata": {
      "needs_background": "light"
     },
     "output_type": "display_data"
    }
   ],
   "source": [
    "plt.scatter(y, y_hat)"
   ]
  },
  {
   "cell_type": "code",
   "execution_count": 54,
   "metadata": {},
   "outputs": [],
   "source": [
    "from sklearn.metrics import r2_score"
   ]
  },
  {
   "cell_type": "code",
   "execution_count": 55,
   "metadata": {},
   "outputs": [
    {
     "data": {
      "text/plain": [
       "0.6517651064586825"
      ]
     },
     "execution_count": 55,
     "metadata": {},
     "output_type": "execute_result"
    }
   ],
   "source": [
    "r2_score(y,y_hat)"
   ]
  },
  {
   "cell_type": "code",
   "execution_count": 57,
   "metadata": {},
   "outputs": [],
   "source": [
    "y_test = linear_regression.predict(test_arr)"
   ]
  },
  {
   "cell_type": "code",
   "execution_count": 58,
   "metadata": {},
   "outputs": [],
   "source": [
    "y_known = np.array(test_df.median_house_value)"
   ]
  },
  {
   "cell_type": "code",
   "execution_count": 59,
   "metadata": {},
   "outputs": [
    {
     "data": {
      "text/plain": [
       "<matplotlib.collections.PathCollection at 0x1b3f7c2dd68>"
      ]
     },
     "execution_count": 59,
     "metadata": {},
     "output_type": "execute_result"
    },
    {
     "data": {
      "image/png": "[encoded data removed]",
      "text/plain": [
       "<Figure size 432x288 with 1 Axes>"
      ]
     },
     "metadata": {
      "needs_background": "light"
     },
     "output_type": "display_data"
    }
   ],
   "source": [
    "plt.scatter(y_known, y_test)"
   ]
  },
  {
   "cell_type": "code",
   "execution_count": 60,
   "metadata": {},
   "outputs": [
    {
     "data": {
      "text/plain": [
       "0.6417422610796629"
      ]
     },
     "execution_count": 60,
     "metadata": {},
     "output_type": "execute_result"
    }
   ],
   "source": [
    "r2_score(y_known, y_test)"
   ]
  },
  {
   "cell_type": "code",
   "execution_count": null,
   "metadata": {},
   "outputs": [],
   "source": []
  }
 ],
 "metadata": {
  "kernelspec": {
   "display_name": "Python 3.7.0 (conda)",
   "language": "python",
   "name": "python3"
  },
  "language_info": {
   "codemirror_mode": {
    "name": "ipython",
    "version": 3
   },
   "file_extension": ".py",
   "mimetype": "text/x-python",
   "name": "python",
   "nbconvert_exporter": "python",
   "pygments_lexer": "ipython3",
   "version": "3.7.0"
  },
  "orig_nbformat": 4,
  "vscode": {
   "interpreter": {
    "hash": "f5d816775beeffa6205b01b877df9abaeb8a95cf65978b9e65fd5035b1e7827c"
   }
  }
 },
 "nbformat": 4,
 "nbformat_minor": 2
}
